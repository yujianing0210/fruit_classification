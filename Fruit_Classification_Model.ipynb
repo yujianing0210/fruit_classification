{
 "cells": [
  {
   "cell_type": "code",
   "execution_count": 1,
   "metadata": {},
   "outputs": [],
   "source": [
    "import tensorflow as tf\n",
    "from tensorflow.keras.optimizers import RMSprop, SGD\n",
    "from tensorflow.keras.models import Sequential, save_model\n",
    "from tensorflow.keras.layers import Dense, Dropout, Flatten, Conv2D, MaxPooling2D\n",
    "from tensorflow.keras.callbacks import Callback, EarlyStopping, ModelCheckpoint\n",
    "import keras_preprocessing\n",
    "from keras_preprocessing import image\n",
    "from keras.preprocessing.image import ImageDataGenerator\n",
    "import matplotlib.pyplot as plt\n",
    "import matplotlib.image as mpimg\n",
    "import os"
   ]
  },
  {
   "cell_type": "code",
   "execution_count": 2,
   "metadata": {},
   "outputs": [],
   "source": [
    "train_datagen = ImageDataGenerator(rescale = 1./255)\n",
    "test_datagen = ImageDataGenerator(rescale = 1./255)"
   ]
  },
  {
   "cell_type": "code",
   "execution_count": 3,
   "metadata": {},
   "outputs": [],
   "source": [
    "train_path = '/Users/28634/Desktop/HKU/Computer_Science/exchange_CS3237/group_project/fruits/train'\n",
    "test_path = '/Users/28634/Desktop/HKU/Computer_Science/exchange_CS3237/group_project/fruits/test'"
   ]
  },
  {
   "cell_type": "code",
   "execution_count": 4,
   "metadata": {},
   "outputs": [
    {
     "name": "stdout",
     "output_type": "stream",
     "text": [
      "Found 14401 images belonging to 6 classes.\n",
      "Found 3198 images belonging to 6 classes.\n"
     ]
    }
   ],
   "source": [
    "train_gen = train_datagen.flow_from_directory(train_path,\n",
    "                                              target_size = (150,150),\n",
    "                                              class_mode = \"categorical\")\n",
    "test_gen = test_datagen.flow_from_directory(test_path,\n",
    "                                            target_size = (150,150),\n",
    "                                            class_mode = \"categorical\")"
   ]
  },
  {
   "cell_type": "code",
   "execution_count": 5,
   "metadata": {},
   "outputs": [
    {
     "name": "stdout",
     "output_type": "stream",
     "text": [
      "total training freshapple images:  1693\n",
      "total training rottenapple images:  2342\n"
     ]
    }
   ],
   "source": [
    "train_freshapples_path = r\"C:\\Users\\28634\\Desktop\\HKU\\Computer_Science\\exchange_CS3237\\group_project\\fruits\\train\\freshapples\"\n",
    "number_freshapples_train = len(os.listdir(train_freshapples_path))\n",
    "print(\"total training freshapple images: \", number_freshapples_train)\n",
    "\n",
    "train_rottenapples_path = r\"C:\\Users\\28634\\Desktop\\HKU\\Computer_Science\\exchange_CS3237\\group_project\\fruits\\train\\rottenapples\"\n",
    "number_rottenapples_train = len(os.listdir(train_rottenapples_path))\n",
    "print(\"total training rottenapple images: \", number_rottenapples_train)\n"
   ]
  },
  {
   "cell_type": "code",
   "execution_count": 13,
   "metadata": {},
   "outputs": [],
   "source": [
    "model = Sequential()\n",
    "model.add(Conv2D(64, kernel_size=(3,3), activation='relu', input_shape=(150, 150, 3), padding='same'))\n",
    "model.add(MaxPooling2D(pool_size=(2,2), strides = 2))\n",
    "model.add(Conv2D(64, kernel_size=(3,3), activation='relu'))\n",
    "model.add(MaxPooling2D(pool_size=(2,2), strides = 2))\n",
    "model.add(Conv2D(128, kernel_size=(3,3), activation='relu'))\n",
    "model.add(MaxPooling2D(pool_size=(2,2), strides = 2))\n",
    "model.add(Conv2D(128, kernel_size=(3,3), activation='relu'))\n",
    "model.add(MaxPooling2D(pool_size=(2,2), strides = 2))\n",
    "model.add(Flatten())\n",
    "model.add(Dense(512, activation='relu'))\n",
    "model.add(Dropout(0.1))\n",
    "model.add(Dense(6, activation='softmax'))"
   ]
  },
  {
   "cell_type": "code",
   "execution_count": 14,
   "metadata": {},
   "outputs": [
    {
     "name": "stdout",
     "output_type": "stream",
     "text": [
      "Model: \"sequential_1\"\n",
      "_________________________________________________________________\n",
      " Layer (type)                Output Shape              Param #   \n",
      "=================================================================\n",
      " conv2d_4 (Conv2D)           (None, 150, 150, 64)      1792      \n",
      "                                                                 \n",
      " max_pooling2d_4 (MaxPooling  (None, 75, 75, 64)       0         \n",
      " 2D)                                                             \n",
      "                                                                 \n",
      " conv2d_5 (Conv2D)           (None, 73, 73, 64)        36928     \n",
      "                                                                 \n",
      " max_pooling2d_5 (MaxPooling  (None, 36, 36, 64)       0         \n",
      " 2D)                                                             \n",
      "                                                                 \n",
      " conv2d_6 (Conv2D)           (None, 34, 34, 128)       73856     \n",
      "                                                                 \n",
      " max_pooling2d_6 (MaxPooling  (None, 17, 17, 128)      0         \n",
      " 2D)                                                             \n",
      "                                                                 \n",
      " conv2d_7 (Conv2D)           (None, 15, 15, 128)       147584    \n",
      "                                                                 \n",
      " max_pooling2d_7 (MaxPooling  (None, 7, 7, 128)        0         \n",
      " 2D)                                                             \n",
      "                                                                 \n",
      " flatten_1 (Flatten)         (None, 6272)              0         \n",
      "                                                                 \n",
      " dense_2 (Dense)             (None, 512)               3211776   \n",
      "                                                                 \n",
      " dropout_1 (Dropout)         (None, 512)               0         \n",
      "                                                                 \n",
      " dense_3 (Dense)             (None, 6)                 3078      \n",
      "                                                                 \n",
      "=================================================================\n",
      "Total params: 3,475,014\n",
      "Trainable params: 3,475,014\n",
      "Non-trainable params: 0\n",
      "_________________________________________________________________\n"
     ]
    }
   ],
   "source": [
    "model.summary()"
   ]
  },
  {
   "cell_type": "code",
   "execution_count": 15,
   "metadata": {},
   "outputs": [],
   "source": [
    "model.compile(loss = \"categorical_crossentropy\", optimizer = \"rmsprop\", metrics = [\"accuracy\"])"
   ]
  },
  {
   "cell_type": "code",
   "execution_count": 19,
   "metadata": {},
   "outputs": [],
   "source": [
    "test_accuracy = 0.995\n",
    "\n",
    "class myCallback(Callback):\n",
    "    def on_epoch_end(self, epoch, logs={}):\n",
    "        acc = logs.get(\"test_acc\")\n",
    "        if((acc != None) and (acc >= test_accuracy)):\n",
    "            print(\"\\nReached desired validation accuracy, so cancelling training\")\n",
    "            self.model.stop_training = True\n",
    "        \n",
    "callbacks = myCallback()\n"
   ]
  },
  {
   "cell_type": "code",
   "execution_count": null,
   "metadata": {},
   "outputs": [
    {
     "name": "stdout",
     "output_type": "stream",
     "text": [
      "Epoch 1/100\n",
      "451/451 [==============================] - 589s 1s/step - loss: 0.3318 - accuracy: 0.8957 - val_loss: 0.2839 - val_accuracy: 0.8984\n",
      "Epoch 2/100\n",
      "451/451 [==============================] - 637s 1s/step - loss: 0.2130 - accuracy: 0.9335 - val_loss: 0.5905 - val_accuracy: 0.8468\n",
      "Epoch 3/100\n",
      "451/451 [==============================] - 615s 1s/step - loss: 0.1572 - accuracy: 0.9534 - val_loss: 0.2017 - val_accuracy: 0.9321\n",
      "Epoch 4/100\n",
      "451/451 [==============================] - 614s 1s/step - loss: 0.1354 - accuracy: 0.9642 - val_loss: 0.2206 - val_accuracy: 0.9443\n",
      "Epoch 5/100\n",
      "451/451 [==============================] - 622s 1s/step - loss: 0.1349 - accuracy: 0.9686 - val_loss: 0.2283 - val_accuracy: 0.9487\n",
      "Epoch 6/100\n",
      "451/451 [==============================] - 554s 1s/step - loss: 0.1293 - accuracy: 0.9703 - val_loss: 0.1376 - val_accuracy: 0.9659\n",
      "Epoch 7/100\n",
      "451/451 [==============================] - 967s 2s/step - loss: 0.1166 - accuracy: 0.9736 - val_loss: 0.3774 - val_accuracy: 0.9009\n",
      "Epoch 8/100\n",
      "451/451 [==============================] - 586s 1s/step - loss: 0.1397 - accuracy: 0.9713 - val_loss: 0.2941 - val_accuracy: 0.9440\n",
      "Epoch 9/100\n",
      "451/451 [==============================] - 614s 1s/step - loss: 0.1118 - accuracy: 0.9784 - val_loss: 0.5717 - val_accuracy: 0.9396\n",
      "Epoch 10/100\n",
      "451/451 [==============================] - 854s 2s/step - loss: 0.1297 - accuracy: 0.9760 - val_loss: 0.2014 - val_accuracy: 0.9725\n",
      "Epoch 11/100\n",
      "451/451 [==============================] - 850s 2s/step - loss: 0.1322 - accuracy: 0.9767 - val_loss: 0.1971 - val_accuracy: 0.9647\n",
      "Epoch 12/100\n",
      "451/451 [==============================] - 1434s 3s/step - loss: 0.1388 - accuracy: 0.9766 - val_loss: 0.2046 - val_accuracy: 0.9490\n",
      "Epoch 13/100\n",
      "451/451 [==============================] - 673s 1s/step - loss: 0.1226 - accuracy: 0.9778 - val_loss: 0.2059 - val_accuracy: 0.9590\n",
      "Epoch 14/100\n",
      "451/451 [==============================] - 1032s 2s/step - loss: 0.1272 - accuracy: 0.9798 - val_loss: 0.1502 - val_accuracy: 0.9728\n",
      "Epoch 15/100\n",
      "451/451 [==============================] - 1271s 3s/step - loss: 0.1104 - accuracy: 0.9818 - val_loss: 0.2676 - val_accuracy: 0.9719\n",
      "Epoch 16/100\n",
      "451/451 [==============================] - 4111s 9s/step - loss: 0.1316 - accuracy: 0.9801 - val_loss: 0.2508 - val_accuracy: 0.9694\n",
      "Epoch 17/100\n",
      "451/451 [==============================] - 613s 1s/step - loss: 0.1416 - accuracy: 0.9824 - val_loss: 0.3245 - val_accuracy: 0.9647\n",
      "Epoch 18/100\n",
      "451/451 [==============================] - 752s 2s/step - loss: 0.1489 - accuracy: 0.9832 - val_loss: 0.3221 - val_accuracy: 0.9662\n",
      "Epoch 19/100\n",
      "451/451 [==============================] - 878s 2s/step - loss: 0.1121 - accuracy: 0.9855 - val_loss: 0.2705 - val_accuracy: 0.9456\n",
      "Epoch 20/100\n",
      "451/451 [==============================] - 1300s 3s/step - loss: 0.1420 - accuracy: 0.9837 - val_loss: 0.3146 - val_accuracy: 0.9615\n",
      "Epoch 21/100\n",
      "451/451 [==============================] - 1291s 3s/step - loss: 0.1729 - accuracy: 0.9816 - val_loss: 0.2863 - val_accuracy: 0.9565\n",
      "Epoch 22/100\n",
      "451/451 [==============================] - 815s 2s/step - loss: 0.1405 - accuracy: 0.9835 - val_loss: 0.7977 - val_accuracy: 0.9368\n",
      "Epoch 23/100\n",
      "451/451 [==============================] - 712s 2s/step - loss: 0.1726 - accuracy: 0.9828 - val_loss: 0.4525 - val_accuracy: 0.9647\n",
      "Epoch 24/100\n",
      "451/451 [==============================] - 723s 2s/step - loss: 0.1620 - accuracy: 0.9853 - val_loss: 0.3963 - val_accuracy: 0.9575\n",
      "Epoch 25/100\n",
      "451/451 [==============================] - 689s 2s/step - loss: 0.1615 - accuracy: 0.9834 - val_loss: 0.8400 - val_accuracy: 0.9528\n",
      "Epoch 26/100\n",
      "451/451 [==============================] - 645s 1s/step - loss: 0.1859 - accuracy: 0.9844 - val_loss: 0.1981 - val_accuracy: 0.9816\n",
      "Epoch 27/100\n",
      "451/451 [==============================] - 693s 2s/step - loss: 0.2280 - accuracy: 0.9867 - val_loss: 0.5207 - val_accuracy: 0.9653\n",
      "Epoch 28/100\n",
      "451/451 [==============================] - 1660s 4s/step - loss: 0.1569 - accuracy: 0.9864 - val_loss: 1.2656 - val_accuracy: 0.9387\n",
      "Epoch 29/100\n",
      "451/451 [==============================] - 796s 2s/step - loss: 0.2465 - accuracy: 0.9873 - val_loss: 0.8441 - val_accuracy: 0.9700\n",
      "Epoch 30/100\n",
      "451/451 [==============================] - 952s 2s/step - loss: 0.1841 - accuracy: 0.9875 - val_loss: 0.6142 - val_accuracy: 0.9653\n",
      "Epoch 31/100\n",
      "451/451 [==============================] - 913s 2s/step - loss: 0.1530 - accuracy: 0.9886 - val_loss: 0.5014 - val_accuracy: 0.9750\n",
      "Epoch 32/100\n",
      "451/451 [==============================] - 1289s 3s/step - loss: 0.1711 - accuracy: 0.9881 - val_loss: 0.3986 - val_accuracy: 0.9803\n",
      "Epoch 33/100\n",
      "451/451 [==============================] - 840s 2s/step - loss: 0.1547 - accuracy: 0.9881 - val_loss: 0.4937 - val_accuracy: 0.9778\n",
      "Epoch 34/100\n",
      "451/451 [==============================] - 1351s 3s/step - loss: 0.2027 - accuracy: 0.9876 - val_loss: 0.8845 - val_accuracy: 0.9684\n",
      "Epoch 35/100\n",
      "451/451 [==============================] - 793s 2s/step - loss: 0.1988 - accuracy: 0.9897 - val_loss: 0.4124 - val_accuracy: 0.9762\n",
      "Epoch 36/100\n",
      "451/451 [==============================] - 662s 1s/step - loss: 0.2402 - accuracy: 0.9889 - val_loss: 0.6005 - val_accuracy: 0.9606\n",
      "Epoch 37/100\n",
      "451/451 [==============================] - 645s 1s/step - loss: 0.1871 - accuracy: 0.9903 - val_loss: 1.7588 - val_accuracy: 0.9425\n",
      "Epoch 38/100\n",
      "451/451 [==============================] - 546s 1s/step - loss: 0.1757 - accuracy: 0.9878 - val_loss: 0.5606 - val_accuracy: 0.9812\n",
      "Epoch 39/100\n",
      "451/451 [==============================] - 28427s 63s/step - loss: 0.2003 - accuracy: 0.9905 - val_loss: 0.9575 - val_accuracy: 0.9737\n",
      "Epoch 40/100\n",
      "451/451 [==============================] - 693s 2s/step - loss: 0.1788 - accuracy: 0.9899 - val_loss: 1.6416 - val_accuracy: 0.9731\n",
      "Epoch 41/100\n",
      "451/451 [==============================] - 702s 2s/step - loss: 0.1904 - accuracy: 0.9905 - val_loss: 0.6972 - val_accuracy: 0.9703\n",
      "Epoch 42/100\n",
      "451/451 [==============================] - 8152s 18s/step - loss: 0.2302 - accuracy: 0.9892 - val_loss: 0.9221 - val_accuracy: 0.9781\n",
      "Epoch 43/100\n",
      "451/451 [==============================] - 1075s 2s/step - loss: 0.1717 - accuracy: 0.9912 - val_loss: 1.7111 - val_accuracy: 0.9644\n",
      "Epoch 44/100\n",
      "451/451 [==============================] - 1745s 4s/step - loss: 0.1908 - accuracy: 0.9924 - val_loss: 1.0000 - val_accuracy: 0.9603\n",
      "Epoch 45/100\n",
      "451/451 [==============================] - 1864s 4s/step - loss: 0.2163 - accuracy: 0.9909 - val_loss: 0.5912 - val_accuracy: 0.9781\n",
      "Epoch 46/100\n",
      "451/451 [==============================] - 1828s 4s/step - loss: 0.2204 - accuracy: 0.9910 - val_loss: 0.8549 - val_accuracy: 0.9828\n",
      "Epoch 47/100\n",
      "451/451 [==============================] - 1585s 4s/step - loss: 0.2707 - accuracy: 0.9920 - val_loss: 1.3653 - val_accuracy: 0.9678\n",
      "Epoch 48/100\n",
      "451/451 [==============================] - 1454s 3s/step - loss: 0.1635 - accuracy: 0.9922 - val_loss: 2.5152 - val_accuracy: 0.9700\n",
      "Epoch 49/100\n",
      "451/451 [==============================] - 1399s 3s/step - loss: 0.1791 - accuracy: 0.9925 - val_loss: 0.8125 - val_accuracy: 0.9775\n",
      "Epoch 50/100\n",
      "451/451 [==============================] - 1235s 3s/step - loss: 0.2311 - accuracy: 0.9919 - val_loss: 1.5096 - val_accuracy: 0.9731\n",
      "Epoch 51/100\n",
      "451/451 [==============================] - 1313s 3s/step - loss: 0.1580 - accuracy: 0.9922 - val_loss: 0.5516 - val_accuracy: 0.9731\n",
      "Epoch 52/100\n",
      "451/451 [==============================] - 1552s 3s/step - loss: 0.2526 - accuracy: 0.9926 - val_loss: 2.1598 - val_accuracy: 0.9725\n",
      "Epoch 53/100\n",
      "451/451 [==============================] - 1663s 4s/step - loss: 0.1654 - accuracy: 0.9940 - val_loss: 1.0929 - val_accuracy: 0.9753\n",
      "Epoch 54/100\n",
      "451/451 [==============================] - 1619s 4s/step - loss: 0.1797 - accuracy: 0.9941 - val_loss: 1.3764 - val_accuracy: 0.9725\n",
      "Epoch 55/100\n",
      "451/451 [==============================] - 1984s 4s/step - loss: 0.2153 - accuracy: 0.9928 - val_loss: 1.5588 - val_accuracy: 0.9778\n",
      "Epoch 56/100\n",
      "  9/451 [..............................] - ETA: 22:29 - loss: 0.0082 - accuracy: 0.9965"
     ]
    }
   ],
   "source": [
    "fruit_model = model.fit(train_gen, epochs = 100, validation_data = test_gen, verbose = 1, callbacks = [callbacks], workers = 10)\n",
    "filepath = r\"C:\\Users\\28634\\Desktop\\HKU\\Computer_Science\\exchange_CS3237\\group_project\\model_part1\"\n",
    "save_model(\n",
    "    model,\n",
    "    filepath,\n",
    "    overwrite = True,\n",
    "    include_optimizer = True,\n",
    "    save_format = \"tf\",\n",
    "    signatures = None\n",
    ")\n",
    "\n",
    "model.save(\"fruit_classification.h5\")"
   ]
  },
  {
   "cell_type": "code",
   "execution_count": null,
   "metadata": {},
   "outputs": [],
   "source": [
    "acc = fruit_model.history['acc']\n",
    "val_acc = fruit_model.history['val_acc']\n",
    "loss = fruit_model.history['loss']\n",
    "val_loss = fruit_model.history['val_loss']\n",
    "\n",
    "epochs = range(len(acc))\n",
    "\n",
    "plt.plot(epochs, acc, 'bo', label = \"Training Accuracy\")\n",
    "plt.plot(epochs, val_acc, 'b', label = \"Validation Accuracy\")\n",
    "plt.title(\"Training and Validation Accuracy Scores\")\n",
    "plt.legend()\n",
    "plt.figure()\n",
    "\n",
    "plt.plot(epochs, loss, 'ro', label = \"Training Loss\")\n",
    "plt.plot(epochs, val_loss, 'r', label = \"Validation Loss\")\n",
    "plt.title(\"Training and Validation Loss Scores\")\n",
    "plt.legend()\n",
    "plt.show()"
   ]
  }
 ],
 "metadata": {
  "kernelspec": {
   "display_name": "Python 3",
   "language": "python",
   "name": "python3"
  },
  "language_info": {
   "codemirror_mode": {
    "name": "ipython",
    "version": 3
   },
   "file_extension": ".py",
   "mimetype": "text/x-python",
   "name": "python",
   "nbconvert_exporter": "python",
   "pygments_lexer": "ipython3",
   "version": "3.8.3"
  }
 },
 "nbformat": 4,
 "nbformat_minor": 4
}
